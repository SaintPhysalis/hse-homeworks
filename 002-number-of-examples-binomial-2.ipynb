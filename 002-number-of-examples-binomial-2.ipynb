{
 "cells": [
  {
   "cell_type": "markdown",
   "metadata": {},
   "source": [
    "# Прогноз необходимого числа набюдений эксперимента"
   ]
  },
  {
   "cell_type": "code",
   "execution_count": 2,
   "metadata": {},
   "outputs": [],
   "source": [
    "%matplotlib inline\n",
    "from matplotlib import pyplot as plt\n",
    "import numpy as np\n",
    "from scipy import stats as st\n",
    "from scipy.stats import norm"
   ]
  },
  {
   "cell_type": "code",
   "execution_count": 3,
   "metadata": {},
   "outputs": [],
   "source": [
    "# TODO: Определить необходимое число наблюдений в эксперименте для получения значимого результата:\n",
    "# Текущий уровень конверсии: 1% # convertion rate P = 0.01\n",
    "# Минимальный уровень изменений: +0.1% -> diff = 0.1\n",
    "# Уровень значимости: 95% -> Q = 0.95\n",
    "# Требуемая мощность критерия: 90%"
   ]
  },
  {
   "cell_type": "code",
   "execution_count": 4,
   "metadata": {},
   "outputs": [],
   "source": [
    "# P = 0.01  # convertion rate, доля положительных ответов\n",
    "# diff = 0.1\n",
    "# N = X   # sample size\n",
    "# M - number of experiments"
   ]
  },
  {
   "cell_type": "code",
   "execution_count": 5,
   "metadata": {},
   "outputs": [],
   "source": [
    "# Если n большое, то в силу центральной предельной теоремы биноминальное распределение соответствует нормальному\n",
    "# Bin (n, p) = N (np, npq), где np - матожидание, npq - дисперсия"
   ]
  },
  {
   "cell_type": "code",
   "execution_count": 6,
   "metadata": {},
   "outputs": [],
   "source": [
    "Q = 0.95\n",
    "z = st.norm.ppf(Q)"
   ]
  },
  {
   "cell_type": "code",
   "execution_count": 7,
   "metadata": {},
   "outputs": [
    {
     "data": {
      "image/png": "[encoded data removed]",
      "text/plain": [
       "<Figure size 432x288 with 1 Axes>"
      ]
     },
     "metadata": {},
     "output_type": "display_data"
    }
   ],
   "source": [
    "# Визуализируем z-распределение\n",
    "x = np.arange(-3, 3, 0.025)\n",
    "plt.plot(x, st.norm.pdf(x))\n",
    "plt.axvline(z, color='k', linestyle='--')\n",
    "plt.fill_between(x, st.norm.pdf(x), where=x<z)\n",
    "plt.title('q=%.3f z=%.3f' % (Q, z));"
   ]
  },
  {
   "cell_type": "code",
   "execution_count": 8,
   "metadata": {},
   "outputs": [],
   "source": [
    "STD = st.norm.cdf(1.65, loc = 0, scale = 1)\n",
    "DIFF = 0.1"
   ]
  },
  {
   "cell_type": "code",
   "execution_count": 9,
   "metadata": {},
   "outputs": [
    {
     "name": "stdout",
     "output_type": "stream",
     "text": [
      "16.448536269514722 0.9505285319663519\n"
     ]
    }
   ],
   "source": [
    "# z = diff / SE\n",
    "diff = 0.1\n",
    "SE = z / diff\n",
    "print (SE, STD)"
   ]
  },
  {
   "cell_type": "code",
   "execution_count": 13,
   "metadata": {},
   "outputs": [
    {
     "name": "stdout",
     "output_type": "stream",
     "text": [
      "244.0\n"
     ]
    }
   ],
   "source": [
    "# число наблюдений для достижения необходимого уровня значимости\n",
    "n = (STD / (DIFF / z))**2\n",
    "print (round(n))"
   ]
  }
 ],
 "metadata": {
  "kernelspec": {
   "display_name": "Python 3",
   "language": "python",
   "name": "python3"
  },
  "language_info": {
   "codemirror_mode": {
    "name": "ipython",
    "version": 3
   },
   "file_extension": ".py",
   "mimetype": "text/x-python",
   "name": "python",
   "nbconvert_exporter": "python",
   "pygments_lexer": "ipython3",
   "version": "3.6.8"
  }
 },
 "nbformat": 4,
 "nbformat_minor": 2
}
