{
  "nbformat": 4,
  "nbformat_minor": 0,
  "metadata": {
    "colab": {
      "name": "Гребневая регрессия и ANN на очищенных данных.ipynb",
      "version": "0.3.2",
      "provenance": [],
      "include_colab_link": true
    },
    "kernelspec": {
      "name": "python3",
      "display_name": "Python 3"
    }
  },
  "cells": [
    {
      "cell_type": "markdown",
      "metadata": {
        "id": "view-in-github",
        "colab_type": "text"
      },
      "source": [
        "<a href=\"https://colab.research.google.com/github/numarkevich/hse-homeworks/blob/master/%D0%93%D1%80%D0%B5%D0%B1%D0%BD%D0%B5%D0%B2%D0%B0%D1%8F_%D1%80%D0%B5%D0%B3%D1%80%D0%B5%D1%81%D1%81%D0%B8%D1%8F_%D0%B8_ANN_%D0%BD%D0%B0_%D0%BE%D1%87%D0%B8%D1%89%D0%B5%D0%BD%D0%BD%D1%8B%D1%85_%D0%B4%D0%B0%D0%BD%D0%BD%D1%8B%D1%85.ipynb\" target=\"_parent\"><img src=\"https://colab.research.google.com/assets/colab-badge.svg\" alt=\"Open In Colab\"/></a>"
      ]
    },
    {
      "metadata": {
        "id": "Y2zjQYM1hruK",
        "colab_type": "code",
        "colab": {}
      },
      "cell_type": "code",
      "source": [
        "import numpy as np\n",
        "import pandas as pd\n",
        "import random\n",
        "import math\n",
        "import sklearn.datasets as ds\n",
        "import matplotlib.pyplot as plt\n",
        "import seaborn as sns\n",
        "from sklearn.preprocessing import StandardScaler, MinMaxScaler\n",
        "\n",
        "%matplotlib inline"
      ],
      "execution_count": 0,
      "outputs": []
    },
    {
      "metadata": {
        "id": "N1YBOUzqiAJo",
        "colab_type": "code",
        "outputId": "6f661088-1cf5-4b5c-a7db-02892f230260",
        "colab": {
          "base_uri": "https://localhost:8080/",
          "height": 221
        }
      },
      "cell_type": "code",
      "source": [
        "from tensorflow.python.client import device_lib\n",
        "device_lib.list_local_devices()"
      ],
      "execution_count": 0,
      "outputs": [
        {
          "output_type": "execute_result",
          "data": {
            "text/plain": [
              "[name: \"/device:CPU:0\"\n",
              " device_type: \"CPU\"\n",
              " memory_limit: 268435456\n",
              " locality {\n",
              " }\n",
              " incarnation: 16832262311840635653, name: \"/device:XLA_CPU:0\"\n",
              " device_type: \"XLA_CPU\"\n",
              " memory_limit: 17179869184\n",
              " locality {\n",
              " }\n",
              " incarnation: 10971466682366195938\n",
              " physical_device_desc: \"device: XLA_CPU device\"]"
            ]
          },
          "metadata": {
            "tags": []
          },
          "execution_count": 2
        }
      ]
    },
    {
      "metadata": {
        "id": "HcZHx3NviDAp",
        "colab_type": "code",
        "outputId": "86382e0e-74c7-4811-f55f-f020f7457078",
        "colab": {
          "base_uri": "https://localhost:8080/",
          "height": 34
        }
      },
      "cell_type": "code",
      "source": [
        "import tensorflow as tf\n",
        "device_name = tf.test.gpu_device_name()\n",
        "print('Found GPU at: {}'.format(device_name))"
      ],
      "execution_count": 0,
      "outputs": [
        {
          "output_type": "stream",
          "text": [
            "Found GPU at: \n"
          ],
          "name": "stdout"
        }
      ]
    },
    {
      "metadata": {
        "id": "PdVoLvbuiGtO",
        "colab_type": "code",
        "outputId": "1b2d3adb-5dde-44b1-db7a-56ec48fb6f5c",
        "colab": {
          "base_uri": "https://localhost:8080/",
          "height": 191
        }
      },
      "cell_type": "code",
      "source": [
        "from google.colab import drive\n",
        "drive.mount('/content/gdrive')"
      ],
      "execution_count": 0,
      "outputs": [
        {
          "output_type": "stream",
          "text": [
            "Go to this URL in a browser: https://accounts.google.com/o/oauth2/auth?client_id=947318989803-6bn6qk8qdgf4n4g3pfee6491hc0brc4i.apps.googleusercontent.com&redirect_uri=urn%3Aietf%3Awg%3Aoauth%3A2.0%3Aoob&scope=email%20https%3A%2F%2Fwww.googleapis.com%2Fauth%2Fdocs.test%20https%3A%2F%2Fwww.googleapis.com%2Fauth%2Fdrive%20https%3A%2F%2Fwww.googleapis.com%2Fauth%2Fdrive.photos.readonly%20https%3A%2F%2Fwww.googleapis.com%2Fauth%2Fpeopleapi.readonly&response_type=code\n",
            "\n",
            "Enter your authorization code:\n",
            "··········\n",
            "Mounted at /content/gdrive\n"
          ],
          "name": "stdout"
        }
      ]
    },
    {
      "metadata": {
        "id": "ZaBAirdwiL6P",
        "colab_type": "code",
        "colab": {}
      },
      "cell_type": "code",
      "source": [
        "data_train = pd.read_csv('/content/gdrive/My Drive/Colab Notebooks/ml5_train.csv', sep=';')\n",
        "data_test = pd.read_csv('/content/gdrive/My Drive/Colab Notebooks/ml5_test.csv', sep=';')"
      ],
      "execution_count": 0,
      "outputs": []
    },
    {
      "metadata": {
        "id": "0W4ad7gpiPQI",
        "colab_type": "code",
        "colab": {}
      },
      "cell_type": "code",
      "source": [
        "data_train['age'] = data_train['age'].astype(int) #хочу, чтобы возраст стал более читаем\n",
        "data_train['age'] = round(data_train['age'] *0.002739)"
      ],
      "execution_count": 0,
      "outputs": []
    },
    {
      "metadata": {
        "id": "YkRjqoZUjsnM",
        "colab_type": "code",
        "colab": {}
      },
      "cell_type": "code",
      "source": [
        "data_train.fillna(data_train.mean(), inplace=True)"
      ],
      "execution_count": 0,
      "outputs": []
    },
    {
      "metadata": {
        "id": "2W27gfkCjxvs",
        "colab_type": "code",
        "colab": {}
      },
      "cell_type": "code",
      "source": [
        "data_train.gender -= 1"
      ],
      "execution_count": 0,
      "outputs": []
    },
    {
      "metadata": {
        "id": "1HwEFfIbj1jc",
        "colab_type": "code",
        "colab": {}
      },
      "cell_type": "code",
      "source": [
        "# Привожу в аналогичный вид тестовую выборку\n",
        "data_test['age'] = data_test['age'].astype(int) #хочу, чтобы возраст стал более читаем\n",
        "data_test['age'] = round(data_test['age'] *0.002739)\n",
        "data_test.gender -= 1"
      ],
      "execution_count": 0,
      "outputs": []
    },
    {
      "metadata": {
        "id": "djKZtePWj7nm",
        "colab_type": "code",
        "outputId": "83ed9b75-0c2f-465e-99b8-d4221cd71b47",
        "colab": {
          "base_uri": "https://localhost:8080/",
          "height": 1071
        }
      },
      "cell_type": "code",
      "source": [
        "data_train['height'].value_counts() # проверяю, где есть выбросы по каждому из параметров\n",
        "# На основании своих находок чищу данные"
      ],
      "execution_count": 0,
      "outputs": [
        {
          "output_type": "execute_result",
          "data": {
            "text/plain": [
              "165    5853\n",
              "160    5022\n",
              "170    4679\n",
              "168    4399\n",
              "164    3396\n",
              "158    3313\n",
              "162    3257\n",
              "169    2791\n",
              "156    2755\n",
              "167    2538\n",
              "163    2516\n",
              "172    2016\n",
              "159    1994\n",
              "166    1979\n",
              "157    1814\n",
              "175    1809\n",
              "155    1782\n",
              "161    1712\n",
              "174    1557\n",
              "154    1443\n",
              "171    1312\n",
              "178    1227\n",
              "152    1161\n",
              "176    1145\n",
              "173    1077\n",
              "153    1059\n",
              "150    1051\n",
              "180     879\n",
              "151     614\n",
              "177     456\n",
              "       ... \n",
              "75        2\n",
              "104       2\n",
              "131       1\n",
              "66        1\n",
              "128       1\n",
              "71        1\n",
              "72        1\n",
              "96        1\n",
              "200       1\n",
              "74        1\n",
              "60        1\n",
              "59        1\n",
              "250       1\n",
              "122       1\n",
              "57        1\n",
              "119       1\n",
              "55        1\n",
              "113       1\n",
              "112       1\n",
              "111       1\n",
              "108       1\n",
              "99        1\n",
              "98        1\n",
              "97        1\n",
              "91        1\n",
              "81        1\n",
              "80        1\n",
              "207       1\n",
              "76        1\n",
              "64        1\n",
              "Name: height, Length: 109, dtype: int64"
            ]
          },
          "metadata": {
            "tags": []
          },
          "execution_count": 10
        }
      ]
    },
    {
      "metadata": {
        "id": "wQdIwVrP2_zL",
        "colab_type": "code",
        "colab": {}
      },
      "cell_type": "code",
      "source": [
        "data_train[\"height\"].where(data_train[\"height\"] < 200, inplace=True)\n",
        "data_train[\"height\"].where(data_train[\"height\"] > 120, inplace=True)\n",
        "data_train[\"age\"].where(data_train[\"age\"] < 100, inplace=True)\n",
        "data_train[\"age\"].where(data_train[\"age\"] > 15, inplace=True)\n",
        "data_train[\"weight\"].where(data_train[\"weight\"] < 250, inplace=True)\n",
        "data_train[\"weight\"].where(data_train[\"weight\"] > 40, inplace=True)\n",
        "data_train[\"ap_hi\"].where(data_train[\"ap_hi\"] < 300, inplace=True)\n",
        "data_train[\"ap_hi\"].where(data_train[\"ap_hi\"] > 50, inplace=True)\n",
        "data_train[\"ap_lo\"].where(data_train[\"ap_lo\"] < 200, inplace=True)\n",
        "data_train[\"ap_lo\"].where(data_train[\"ap_lo\"] > 20, inplace=True)"
      ],
      "execution_count": 0,
      "outputs": []
    },
    {
      "metadata": {
        "id": "rhDYsjSR810b",
        "colab_type": "code",
        "colab": {}
      },
      "cell_type": "code",
      "source": [
        "data_train.fillna(data_train.mean(), inplace=True)"
      ],
      "execution_count": 0,
      "outputs": []
    },
    {
      "metadata": {
        "id": "xbgVulGM7T_j",
        "colab_type": "code",
        "colab": {}
      },
      "cell_type": "code",
      "source": [
        "data_test.fillna(data_train.mean(), inplace=True)"
      ],
      "execution_count": 0,
      "outputs": []
    },
    {
      "metadata": {
        "id": "SrTxsMEI6gGQ",
        "colab_type": "code",
        "outputId": "b2b3510e-0f72-4ba4-9f71-38783cc45db7",
        "colab": {
          "base_uri": "https://localhost:8080/",
          "height": 323
        }
      },
      "cell_type": "code",
      "source": [
        "data_train.info()"
      ],
      "execution_count": 0,
      "outputs": [
        {
          "output_type": "stream",
          "text": [
            "<class 'pandas.core.frame.DataFrame'>\n",
            "RangeIndex: 70000 entries, 0 to 69999\n",
            "Data columns (total 13 columns):\n",
            "id             70000 non-null int64\n",
            "age            70000 non-null float64\n",
            "gender         70000 non-null int64\n",
            "height         70000 non-null float64\n",
            "weight         70000 non-null float64\n",
            "ap_hi          70000 non-null float64\n",
            "ap_lo          70000 non-null float64\n",
            "cholesterol    70000 non-null int64\n",
            "gluc           70000 non-null int64\n",
            "smoke          70000 non-null int64\n",
            "alco           70000 non-null int64\n",
            "active         70000 non-null int64\n",
            "cardio         70000 non-null int64\n",
            "dtypes: float64(5), int64(8)\n",
            "memory usage: 6.9 MB\n"
          ],
          "name": "stdout"
        }
      ]
    },
    {
      "metadata": {
        "id": "IqjkdqEP8crF",
        "colab_type": "code",
        "outputId": "87e93532-79f0-418c-8331-e830818df7aa",
        "colab": {
          "base_uri": "https://localhost:8080/",
          "height": 1071
        }
      },
      "cell_type": "code",
      "source": [
        "data_train[\"height\"].astype(np.int64)"
      ],
      "execution_count": 0,
      "outputs": [
        {
          "output_type": "execute_result",
          "data": {
            "text/plain": [
              "0        168\n",
              "1        156\n",
              "2        165\n",
              "3        169\n",
              "4        156\n",
              "5        151\n",
              "6        157\n",
              "7        178\n",
              "8        158\n",
              "9        164\n",
              "10       169\n",
              "11       173\n",
              "12       165\n",
              "13       158\n",
              "14       181\n",
              "15       172\n",
              "16       170\n",
              "17       158\n",
              "18       154\n",
              "19       162\n",
              "20       163\n",
              "21       157\n",
              "22       158\n",
              "23       156\n",
              "24       170\n",
              "25       153\n",
              "26       156\n",
              "27       159\n",
              "28       166\n",
              "29       169\n",
              "        ... \n",
              "69970    173\n",
              "69971    177\n",
              "69972    165\n",
              "69973    175\n",
              "69974    168\n",
              "69975    182\n",
              "69976    163\n",
              "69977    168\n",
              "69978    163\n",
              "69979    163\n",
              "69980    167\n",
              "69981    182\n",
              "69982    153\n",
              "69983    165\n",
              "69984    168\n",
              "69985    156\n",
              "69986    180\n",
              "69987    151\n",
              "69988    160\n",
              "69989    157\n",
              "69990    168\n",
              "69991    159\n",
              "69992    161\n",
              "69993    172\n",
              "69994    165\n",
              "69995    168\n",
              "69996    158\n",
              "69997    183\n",
              "69998    163\n",
              "69999    170\n",
              "Name: height, Length: 70000, dtype: int64"
            ]
          },
          "metadata": {
            "tags": []
          },
          "execution_count": 15
        }
      ]
    },
    {
      "metadata": {
        "id": "w7wpQbCk7p2L",
        "colab_type": "code",
        "colab": {}
      },
      "cell_type": "code",
      "source": [
        "data_test[\"height\"].astype(np.int64)\n",
        "data_test['smoke'] = data_test.smoke.replace('None', -1).astype('int32')\n",
        "data_test.active = data_test.active.replace('None', -1).astype('int32')\n",
        "data_test.alco = data_test.alco.replace('None', -1).astype('int32')"
      ],
      "execution_count": 0,
      "outputs": []
    },
    {
      "metadata": {
        "id": "anrZuyfxkLBs",
        "colab_type": "code",
        "outputId": "172629a2-58ee-4d70-8dfa-85fb51baa96e",
        "colab": {
          "base_uri": "https://localhost:8080/",
          "height": 34
        }
      },
      "cell_type": "code",
      "source": [
        "# Гребневая регрессия\n",
        "from sklearn.model_selection import train_test_split\n",
        "from sklearn.linear_model import Ridge\n",
        "X, y = data_train.drop('cardio', axis=1), data_train['cardio']\n",
        "X_train, X_test, y_train, y_test = train_test_split(X, y, test_size=0.3, random_state=42)\n",
        "clf = Ridge(alpha=1.0)\n",
        "clf.fit(X, y) \n",
        "ridge_clean = Ridge(alpha=1.0, copy_X=True, fit_intercept=True, max_iter=None,\n",
        "      normalize=False, random_state=None, solver='auto', tol=0.001)\n",
        "ridge_clean.fit(X, y) \n",
        "ridge_clean.score(X, y, sample_weight=None)"
      ],
      "execution_count": 0,
      "outputs": [
        {
          "output_type": "execute_result",
          "data": {
            "text/plain": [
              "0.23004860548572803"
            ]
          },
          "metadata": {
            "tags": []
          },
          "execution_count": 17
        }
      ]
    },
    {
      "metadata": {
        "id": "8JnTT3sZHKky",
        "colab_type": "code",
        "outputId": "3817d03a-72f2-44b9-c043-35ba9a235094",
        "colab": {
          "base_uri": "https://localhost:8080/",
          "height": 51
        }
      },
      "cell_type": "code",
      "source": [
        "predictions = ridge_clean.predict(X_test)\n",
        "predictions"
      ],
      "execution_count": 0,
      "outputs": [
        {
          "output_type": "execute_result",
          "data": {
            "text/plain": [
              "array([0.73278623, 0.89001912, 0.64648533, ..., 0.49288129, 0.54994146,\n",
              "       1.03990787])"
            ]
          },
          "metadata": {
            "tags": []
          },
          "execution_count": 18
        }
      ]
    },
    {
      "metadata": {
        "id": "HpJL3LMglW0m",
        "colab_type": "code",
        "outputId": "795ed5b0-25a6-4bb6-a4ac-c08cebf488b0",
        "colab": {
          "base_uri": "https://localhost:8080/",
          "height": 34
        }
      },
      "cell_type": "code",
      "source": [
        "import keras"
      ],
      "execution_count": 0,
      "outputs": [
        {
          "output_type": "stream",
          "text": [
            "Using TensorFlow backend.\n"
          ],
          "name": "stderr"
        }
      ]
    },
    {
      "metadata": {
        "id": "mvMzhLNOlcQ5",
        "colab_type": "code",
        "outputId": "9eaf4803-d853-44e5-8079-a7f4547caef4",
        "colab": {
          "base_uri": "https://localhost:8080/",
          "height": 1958
        }
      },
      "cell_type": "code",
      "source": [
        "# ANN\n",
        "from sklearn.preprocessing import StandardScaler\n",
        "sc = StandardScaler()\n",
        "sc.fit(X_train)\n",
        "X_train = sc.transform(X_train)\n",
        "X_test = sc.transform(X_test)\n",
        "\n",
        "import keras\n",
        "from keras.models import Sequential\n",
        "from keras.layers import Dense\n",
        "\n",
        "# Инициализируем ANN\n",
        "classifier = Sequential()\n",
        "\n",
        "# Добавим входной слой и первый внутренний (скрытый) слой\n",
        "classifier.add(Dense(units = 5, kernel_initializer = 'uniform', activation = 'relu', input_dim = 12))\n",
        "\n",
        "# Добавим второй внутренний слой\n",
        "classifier.add(Dense(units = 5, kernel_initializer = 'uniform', activation = 'relu'))\n",
        "\n",
        "# Добавим выходной слой\n",
        "classifier.add(Dense(units = 1, kernel_initializer = 'uniform', activation = 'sigmoid'))\n",
        "\n",
        "# Скомпилируем ANN\n",
        "classifier.compile(optimizer = 'adam', loss = 'binary_crossentropy', metrics = ['accuracy'])\n",
        "\n",
        "# Обучим ANN на тренировочном датасете\n",
        "classifier.fit(X_train, y_train, batch_size = 30, epochs = 50)"
      ],
      "execution_count": 0,
      "outputs": [
        {
          "output_type": "stream",
          "text": [
            "WARNING:tensorflow:From /usr/local/lib/python3.6/dist-packages/tensorflow/python/framework/op_def_library.py:263: colocate_with (from tensorflow.python.framework.ops) is deprecated and will be removed in a future version.\n",
            "Instructions for updating:\n",
            "Colocations handled automatically by placer.\n",
            "WARNING:tensorflow:From /usr/local/lib/python3.6/dist-packages/tensorflow/python/ops/math_ops.py:3066: to_int32 (from tensorflow.python.ops.math_ops) is deprecated and will be removed in a future version.\n",
            "Instructions for updating:\n",
            "Use tf.cast instead.\n"
          ],
          "name": "stdout"
        },
        {
          "output_type": "stream",
          "text": [
            "/usr/local/lib/python3.6/dist-packages/sklearn/preprocessing/data.py:625: DataConversionWarning: Data with input dtype int64, float64 were all converted to float64 by StandardScaler.\n",
            "  return self.partial_fit(X, y)\n",
            "/usr/local/lib/python3.6/dist-packages/ipykernel_launcher.py:4: DataConversionWarning: Data with input dtype int64, float64 were all converted to float64 by StandardScaler.\n",
            "  after removing the cwd from sys.path.\n",
            "/usr/local/lib/python3.6/dist-packages/ipykernel_launcher.py:5: DataConversionWarning: Data with input dtype int64, float64 were all converted to float64 by StandardScaler.\n",
            "  \"\"\"\n"
          ],
          "name": "stderr"
        },
        {
          "output_type": "stream",
          "text": [
            "Epoch 1/50\n",
            "49000/49000 [==============================] - 3s 54us/step - loss: 0.5701 - acc: 0.7188\n",
            "Epoch 2/50\n",
            "49000/49000 [==============================] - 2s 36us/step - loss: 0.5498 - acc: 0.7289\n",
            "Epoch 3/50\n",
            "49000/49000 [==============================] - 2s 35us/step - loss: 0.5488 - acc: 0.7290\n",
            "Epoch 4/50\n",
            "49000/49000 [==============================] - 2s 35us/step - loss: 0.5480 - acc: 0.7305\n",
            "Epoch 5/50\n",
            "49000/49000 [==============================] - 2s 35us/step - loss: 0.5472 - acc: 0.7304\n",
            "Epoch 6/50\n",
            "49000/49000 [==============================] - 2s 36us/step - loss: 0.5467 - acc: 0.7295\n",
            "Epoch 7/50\n",
            "49000/49000 [==============================] - 2s 36us/step - loss: 0.5463 - acc: 0.7312\n",
            "Epoch 8/50\n",
            "49000/49000 [==============================] - 2s 35us/step - loss: 0.5457 - acc: 0.7307\n",
            "Epoch 9/50\n",
            "49000/49000 [==============================] - 2s 35us/step - loss: 0.5455 - acc: 0.7307\n",
            "Epoch 10/50\n",
            "49000/49000 [==============================] - 2s 36us/step - loss: 0.5452 - acc: 0.7307\n",
            "Epoch 11/50\n",
            "49000/49000 [==============================] - 2s 35us/step - loss: 0.5449 - acc: 0.7311\n",
            "Epoch 12/50\n",
            "49000/49000 [==============================] - 2s 40us/step - loss: 0.5448 - acc: 0.7314\n",
            "Epoch 13/50\n",
            "49000/49000 [==============================] - 2s 50us/step - loss: 0.5446 - acc: 0.7312\n",
            "Epoch 14/50\n",
            "49000/49000 [==============================] - 2s 42us/step - loss: 0.5445 - acc: 0.7320\n",
            "Epoch 15/50\n",
            "49000/49000 [==============================] - 2s 42us/step - loss: 0.5445 - acc: 0.7320\n",
            "Epoch 16/50\n",
            "49000/49000 [==============================] - 2s 40us/step - loss: 0.5443 - acc: 0.7318\n",
            "Epoch 17/50\n",
            "49000/49000 [==============================] - 2s 37us/step - loss: 0.5442 - acc: 0.7319\n",
            "Epoch 18/50\n",
            "49000/49000 [==============================] - 2s 35us/step - loss: 0.5442 - acc: 0.7314\n",
            "Epoch 19/50\n",
            "49000/49000 [==============================] - 2s 35us/step - loss: 0.5439 - acc: 0.7319\n",
            "Epoch 20/50\n",
            "49000/49000 [==============================] - 2s 38us/step - loss: 0.5438 - acc: 0.7318\n",
            "Epoch 21/50\n",
            "49000/49000 [==============================] - 2s 36us/step - loss: 0.5438 - acc: 0.7315\n",
            "Epoch 22/50\n",
            "49000/49000 [==============================] - 2s 35us/step - loss: 0.5439 - acc: 0.7324\n",
            "Epoch 23/50\n",
            "49000/49000 [==============================] - 2s 41us/step - loss: 0.5437 - acc: 0.7304\n",
            "Epoch 24/50\n",
            "49000/49000 [==============================] - 2s 35us/step - loss: 0.5438 - acc: 0.7317\n",
            "Epoch 25/50\n",
            "49000/49000 [==============================] - 2s 41us/step - loss: 0.5437 - acc: 0.7317\n",
            "Epoch 26/50\n",
            "49000/49000 [==============================] - 2s 36us/step - loss: 0.5437 - acc: 0.7327\n",
            "Epoch 27/50\n",
            "49000/49000 [==============================] - 2s 41us/step - loss: 0.5437 - acc: 0.7322\n",
            "Epoch 28/50\n",
            "49000/49000 [==============================] - 2s 43us/step - loss: 0.5437 - acc: 0.7320\n",
            "Epoch 29/50\n",
            "49000/49000 [==============================] - 2s 43us/step - loss: 0.5436 - acc: 0.7319\n",
            "Epoch 30/50\n",
            "49000/49000 [==============================] - 2s 50us/step - loss: 0.5435 - acc: 0.7325\n",
            "Epoch 31/50\n",
            "49000/49000 [==============================] - 2s 46us/step - loss: 0.5436 - acc: 0.7325\n",
            "Epoch 32/50\n",
            "49000/49000 [==============================] - 3s 54us/step - loss: 0.5436 - acc: 0.7312\n",
            "Epoch 33/50\n",
            "49000/49000 [==============================] - 2s 36us/step - loss: 0.5437 - acc: 0.7322\n",
            "Epoch 34/50\n",
            "49000/49000 [==============================] - 2s 43us/step - loss: 0.5434 - acc: 0.7326\n",
            "Epoch 35/50\n",
            "49000/49000 [==============================] - 2s 43us/step - loss: 0.5436 - acc: 0.7324\n",
            "Epoch 36/50\n",
            "49000/49000 [==============================] - 2s 38us/step - loss: 0.5436 - acc: 0.7316\n",
            "Epoch 37/50\n",
            "49000/49000 [==============================] - 2s 48us/step - loss: 0.5435 - acc: 0.7323\n",
            "Epoch 38/50\n",
            "49000/49000 [==============================] - 2s 40us/step - loss: 0.5435 - acc: 0.7319\n",
            "Epoch 39/50\n",
            "49000/49000 [==============================] - 2s 45us/step - loss: 0.5434 - acc: 0.7321\n",
            "Epoch 40/50\n",
            "49000/49000 [==============================] - 2s 45us/step - loss: 0.5435 - acc: 0.7318\n",
            "Epoch 41/50\n",
            "49000/49000 [==============================] - 2s 44us/step - loss: 0.5436 - acc: 0.7326\n",
            "Epoch 42/50\n",
            "49000/49000 [==============================] - 2s 41us/step - loss: 0.5434 - acc: 0.7320\n",
            "Epoch 43/50\n",
            "49000/49000 [==============================] - 2s 39us/step - loss: 0.5433 - acc: 0.7320\n",
            "Epoch 44/50\n",
            "49000/49000 [==============================] - 2s 36us/step - loss: 0.5434 - acc: 0.7320\n",
            "Epoch 45/50\n",
            "49000/49000 [==============================] - 2s 35us/step - loss: 0.5434 - acc: 0.7320\n",
            "Epoch 46/50\n",
            "49000/49000 [==============================] - 2s 35us/step - loss: 0.5433 - acc: 0.7320\n",
            "Epoch 47/50\n",
            "49000/49000 [==============================] - 2s 35us/step - loss: 0.5435 - acc: 0.7330\n",
            "Epoch 48/50\n",
            "49000/49000 [==============================] - 2s 35us/step - loss: 0.5433 - acc: 0.7314\n",
            "Epoch 49/50\n",
            "49000/49000 [==============================] - 2s 35us/step - loss: 0.5435 - acc: 0.7312\n",
            "Epoch 50/50\n",
            "49000/49000 [==============================] - 2s 34us/step - loss: 0.5433 - acc: 0.7329\n"
          ],
          "name": "stdout"
        },
        {
          "output_type": "execute_result",
          "data": {
            "text/plain": [
              "<keras.callbacks.History at 0x7f2c529717f0>"
            ]
          },
          "metadata": {
            "tags": []
          },
          "execution_count": 20
        }
      ]
    },
    {
      "metadata": {
        "id": "YBcbGgUOldmE",
        "colab_type": "code",
        "outputId": "fd8c4e0c-d5f5-4509-ad2a-af13b42631c7",
        "colab": {
          "base_uri": "https://localhost:8080/",
          "height": 34
        }
      },
      "cell_type": "code",
      "source": [
        "# Сделаем предсказания и оценим нашу модель\n",
        "from sklearn.metrics import roc_auc_score\n",
        "y_pred = classifier.predict_proba(X_test)\n",
        "roc_auc_score(y_test, y_pred)"
      ],
      "execution_count": 0,
      "outputs": [
        {
          "output_type": "execute_result",
          "data": {
            "text/plain": [
              "0.8010455364196"
            ]
          },
          "metadata": {
            "tags": []
          },
          "execution_count": 21
        }
      ]
    },
    {
      "metadata": {
        "id": "fppXoMsy5pEo",
        "colab_type": "code",
        "outputId": "d7608d30-0883-4b8d-baa0-5c2badfb51df",
        "colab": {
          "base_uri": "https://localhost:8080/",
          "height": 136
        }
      },
      "cell_type": "code",
      "source": [
        "y_pred"
      ],
      "execution_count": 0,
      "outputs": [
        {
          "output_type": "execute_result",
          "data": {
            "text/plain": [
              "array([[0.8203265 ],\n",
              "       [0.8494463 ],\n",
              "       [0.6390582 ],\n",
              "       ...,\n",
              "       [0.7119899 ],\n",
              "       [0.58878475],\n",
              "       [0.88836896]], dtype=float32)"
            ]
          },
          "metadata": {
            "tags": []
          },
          "execution_count": 22
        }
      ]
    }
  ]
}